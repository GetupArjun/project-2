{
 "cells": [
  {
   "cell_type": "markdown",
   "id": "aa01d47c",
   "metadata": {},
   "source": [
    "# Fetch Data"
   ]
  },
  {
   "cell_type": "code",
   "execution_count": 1,
   "id": "b5ab2d15",
   "metadata": {},
   "outputs": [],
   "source": [
    "import pandas as pd\n",
    "from warnings import filterwarnings\n",
    "filterwarnings(\"ignore\")\n",
    "\n",
    "A = open(\"C:/Users/Anuj.kumar/Desktop/sherlock.txt\",encoding=\"utf\")"
   ]
  },
  {
   "cell_type": "code",
   "execution_count": 2,
   "id": "e4fc54ab",
   "metadata": {},
   "outputs": [],
   "source": [
    "W=A.read()"
   ]
  },
  {
   "cell_type": "code",
   "execution_count": 3,
   "id": "4e8a138b",
   "metadata": {},
   "outputs": [],
   "source": [
    "W = W[0:20000]"
   ]
  },
  {
   "cell_type": "markdown",
   "id": "f1d9fb76",
   "metadata": {},
   "source": [
    "# Preprocessing"
   ]
  },
  {
   "cell_type": "code",
   "execution_count": null,
   "id": "3241797e",
   "metadata": {},
   "outputs": [],
   "source": []
  },
  {
   "cell_type": "code",
   "execution_count": 4,
   "id": "0f71f323",
   "metadata": {},
   "outputs": [],
   "source": [
    "import re\n",
    "from nltk.stem import PorterStemmer\n",
    "from nltk.stem import WordNetLemmatizer\n",
    "\n",
    "ps = PorterStemmer()\n",
    "lm = WordNetLemmatizer()\n",
    "\n",
    "words = []\n",
    "for i in W.split(\" \"):\n",
    "    upr = i.upper()\n",
    "    splch = re.sub(\"[^A-Z0-9]\",\"\",upr)\n",
    "    stemmed = ps.stem(splch)\n",
    "    lem = lm.lemmatize(stemmed)\n",
    "    words.append(lem.upper())"
   ]
  },
  {
   "cell_type": "code",
   "execution_count": null,
   "id": "a08c1ce5",
   "metadata": {},
   "outputs": [],
   "source": []
  },
  {
   "cell_type": "markdown",
   "id": "a2e18e67",
   "metadata": {},
   "source": [
    "# Convert Data in X|Y format"
   ]
  },
  {
   "cell_type": "code",
   "execution_count": 5,
   "id": "bde4c0b6",
   "metadata": {},
   "outputs": [],
   "source": [
    "str_X = []\n",
    "str_Y = []"
   ]
  },
  {
   "cell_type": "code",
   "execution_count": 6,
   "id": "e3ecb2fc",
   "metadata": {},
   "outputs": [],
   "source": [
    "for i in range(3,len(words),1):\n",
    "    fw = words[i-3]\n",
    "    sw = words[i-2]\n",
    "    tw = words[i-1]\n",
    "    fnw = words[i]\n",
    "    str_X.append(str(fw) + \" \" + str(sw) + \" \" + str(tw))\n",
    "    str_Y.append(str(fnw))"
   ]
  },
  {
   "cell_type": "code",
   "execution_count": 7,
   "id": "7eea3cf6",
   "metadata": {},
   "outputs": [],
   "source": [
    "import pandas as pd\n",
    "Q = pd.DataFrame([str_X,str_Y]).T\n",
    "Q.columns = [\"X\",\"Y\"]"
   ]
  },
  {
   "cell_type": "code",
   "execution_count": 8,
   "id": "9cabdbdd",
   "metadata": {},
   "outputs": [
    {
     "data": {
      "text/html": [
       "<div>\n",
       "<style scoped>\n",
       "    .dataframe tbody tr th:only-of-type {\n",
       "        vertical-align: middle;\n",
       "    }\n",
       "\n",
       "    .dataframe tbody tr th {\n",
       "        vertical-align: top;\n",
       "    }\n",
       "\n",
       "    .dataframe thead th {\n",
       "        text-align: right;\n",
       "    }\n",
       "</style>\n",
       "<table border=\"1\" class=\"dataframe\">\n",
       "  <thead>\n",
       "    <tr style=\"text-align: right;\">\n",
       "      <th></th>\n",
       "      <th>X</th>\n",
       "      <th>Y</th>\n",
       "    </tr>\n",
       "  </thead>\n",
       "  <tbody>\n",
       "    <tr>\n",
       "      <th>0</th>\n",
       "      <td>PROJECT GUTENBERG THE</td>\n",
       "      <td>ADVENTUR</td>\n",
       "    </tr>\n",
       "    <tr>\n",
       "      <th>1</th>\n",
       "      <td>GUTENBERG THE ADVENTUR</td>\n",
       "      <td>OF</td>\n",
       "    </tr>\n",
       "    <tr>\n",
       "      <th>2</th>\n",
       "      <td>THE ADVENTUR OF</td>\n",
       "      <td>SHERLOCK</td>\n",
       "    </tr>\n",
       "    <tr>\n",
       "      <th>3</th>\n",
       "      <td>ADVENTUR OF SHERLOCK</td>\n",
       "      <td>HOLM</td>\n",
       "    </tr>\n",
       "    <tr>\n",
       "      <th>4</th>\n",
       "      <td>OF SHERLOCK HOLM</td>\n",
       "      <td>BY</td>\n",
       "    </tr>\n",
       "  </tbody>\n",
       "</table>\n",
       "</div>"
      ],
      "text/plain": [
       "                        X         Y\n",
       "0   PROJECT GUTENBERG THE  ADVENTUR\n",
       "1  GUTENBERG THE ADVENTUR        OF\n",
       "2         THE ADVENTUR OF  SHERLOCK\n",
       "3    ADVENTUR OF SHERLOCK      HOLM\n",
       "4        OF SHERLOCK HOLM        BY"
      ]
     },
     "execution_count": 8,
     "metadata": {},
     "output_type": "execute_result"
    }
   ],
   "source": [
    "Q.head()"
   ]
  },
  {
   "cell_type": "code",
   "execution_count": null,
   "id": "bb6610b8",
   "metadata": {},
   "outputs": [],
   "source": []
  },
  {
   "cell_type": "markdown",
   "id": "13878e84",
   "metadata": {},
   "source": [
    "# Converting Data to ARRAY | TENSOR"
   ]
  },
  {
   "cell_type": "markdown",
   "id": "6729cd84",
   "metadata": {},
   "source": [
    "Find out unique words"
   ]
  },
  {
   "cell_type": "code",
   "execution_count": 9,
   "id": "e1da793b",
   "metadata": {},
   "outputs": [],
   "source": [
    "import numpy as np\n",
    "uwords =np.unique(words)"
   ]
  },
  {
   "cell_type": "code",
   "execution_count": 10,
   "id": "696584d3",
   "metadata": {},
   "outputs": [
    {
     "data": {
      "text/plain": [
       "1240"
      ]
     },
     "execution_count": 10,
     "metadata": {},
     "output_type": "execute_result"
    }
   ],
   "source": [
    "len(uwords)"
   ]
  },
  {
   "cell_type": "code",
   "execution_count": 11,
   "id": "e20a4f54",
   "metadata": {},
   "outputs": [
    {
     "data": {
      "text/plain": [
       "3268"
      ]
     },
     "execution_count": 11,
     "metadata": {},
     "output_type": "execute_result"
    }
   ],
   "source": [
    "len(str_X)"
   ]
  },
  {
   "cell_type": "code",
   "execution_count": null,
   "id": "112f4cea",
   "metadata": {},
   "outputs": [],
   "source": []
  },
  {
   "cell_type": "markdown",
   "id": "71940272",
   "metadata": {},
   "source": [
    "Creation of blank arrays as per X and Y sizes"
   ]
  },
  {
   "cell_type": "code",
   "execution_count": 12,
   "id": "a83666ce",
   "metadata": {},
   "outputs": [],
   "source": [
    "import numpy as np\n",
    "X_arr = np.zeros((len(str_X),len(uwords),3),dtype=bool)\n",
    "Y_arr = np.zeros((len(str_X),len(uwords)),dtype=bool)"
   ]
  },
  {
   "cell_type": "code",
   "execution_count": null,
   "id": "826033e9",
   "metadata": {},
   "outputs": [],
   "source": []
  },
  {
   "cell_type": "markdown",
   "id": "3fed26a4",
   "metadata": {},
   "source": [
    "Create a dictionary containing words and its position"
   ]
  },
  {
   "cell_type": "code",
   "execution_count": 13,
   "id": "cc44d13d",
   "metadata": {},
   "outputs": [],
   "source": [
    "word_position_finder = {}\n",
    "for i in range(0,len(uwords),1):\n",
    "    word_position_finder[uwords[i]] = i"
   ]
  },
  {
   "cell_type": "code",
   "execution_count": null,
   "id": "be201f26",
   "metadata": {},
   "outputs": [],
   "source": []
  },
  {
   "cell_type": "code",
   "execution_count": 14,
   "id": "25e0174b",
   "metadata": {},
   "outputs": [],
   "source": [
    "for i,j in enumerate(str_X):\n",
    "    for j,k in enumerate(j.split(\" \")):\n",
    "        pos = word_position_finder[k]\n",
    "        X_arr[i,pos,j]=1"
   ]
  },
  {
   "cell_type": "code",
   "execution_count": 15,
   "id": "0f217345",
   "metadata": {},
   "outputs": [],
   "source": [
    "for i,j in enumerate(str_Y):\n",
    "    pos = word_position_finder[j]\n",
    "    Y_arr[i,pos]=1"
   ]
  },
  {
   "cell_type": "code",
   "execution_count": 16,
   "id": "0770e0af",
   "metadata": {},
   "outputs": [
    {
     "data": {
      "text/plain": [
       "array([[False, False, False, ..., False, False, False],\n",
       "       [False, False, False, ..., False, False, False],\n",
       "       [False, False, False, ..., False, False, False],\n",
       "       ...,\n",
       "       [False, False, False, ..., False, False, False],\n",
       "       [False, False, False, ..., False, False, False],\n",
       "       [False, False, False, ..., False, False, False]])"
      ]
     },
     "execution_count": 16,
     "metadata": {},
     "output_type": "execute_result"
    }
   ],
   "source": [
    "Y_arr"
   ]
  },
  {
   "cell_type": "code",
   "execution_count": null,
   "id": "1b062468",
   "metadata": {},
   "outputs": [],
   "source": []
  },
  {
   "cell_type": "markdown",
   "id": "d8f90f0d",
   "metadata": {},
   "source": [
    "# Create a NN"
   ]
  },
  {
   "cell_type": "code",
   "execution_count": 17,
   "id": "705e8e15",
   "metadata": {},
   "outputs": [],
   "source": [
    "from keras.layers import Dense,RNN,LSTM\n",
    "from keras.models import Sequential"
   ]
  },
  {
   "cell_type": "code",
   "execution_count": 18,
   "id": "27bf2d09",
   "metadata": {},
   "outputs": [],
   "source": [
    "model = Sequential()\n",
    "model.add(LSTM(200,input_shape=(len(uwords),3)))\n",
    "model.add(Dense(len(uwords),activation=\"softmax\"))"
   ]
  },
  {
   "cell_type": "code",
   "execution_count": 19,
   "id": "40779858",
   "metadata": {},
   "outputs": [
    {
     "name": "stdout",
     "output_type": "stream",
     "text": [
      "Epoch 1/3\n",
      "4/4 [==============================] - 131s 29s/step - loss: 7.1217 - accuracy: 0.0352\n",
      "Epoch 2/3\n",
      "4/4 [==============================] - 98s 22s/step - loss: 7.1045 - accuracy: 0.0453\n",
      "Epoch 3/3\n",
      "4/4 [==============================] - 101s 24s/step - loss: 6.7673 - accuracy: 0.0453\n"
     ]
    },
    {
     "data": {
      "text/plain": [
       "<keras.callbacks.History at 0x1e12af11850>"
      ]
     },
     "execution_count": 19,
     "metadata": {},
     "output_type": "execute_result"
    }
   ],
   "source": [
    "model.compile(loss=\"categorical_crossentropy\",optimizer=\"adam\",metrics=[\"accuracy\"])\n",
    "model.fit(X_arr,Y_arr,batch_size=1000,epochs=3)"
   ]
  },
  {
   "cell_type": "code",
   "execution_count": 22,
   "id": "77a0771a",
   "metadata": {},
   "outputs": [
    {
     "data": {
      "text/html": [
       "<div>\n",
       "<style scoped>\n",
       "    .dataframe tbody tr th:only-of-type {\n",
       "        vertical-align: middle;\n",
       "    }\n",
       "\n",
       "    .dataframe tbody tr th {\n",
       "        vertical-align: top;\n",
       "    }\n",
       "\n",
       "    .dataframe thead th {\n",
       "        text-align: right;\n",
       "    }\n",
       "</style>\n",
       "<table border=\"1\" class=\"dataframe\">\n",
       "  <thead>\n",
       "    <tr style=\"text-align: right;\">\n",
       "      <th></th>\n",
       "      <th>X</th>\n",
       "      <th>Y</th>\n",
       "    </tr>\n",
       "  </thead>\n",
       "  <tbody>\n",
       "    <tr>\n",
       "      <th>0</th>\n",
       "      <td>PROJECT GUTENBERG THE</td>\n",
       "      <td>ADVENTUR</td>\n",
       "    </tr>\n",
       "    <tr>\n",
       "      <th>1</th>\n",
       "      <td>GUTENBERG THE ADVENTUR</td>\n",
       "      <td>OF</td>\n",
       "    </tr>\n",
       "    <tr>\n",
       "      <th>2</th>\n",
       "      <td>THE ADVENTUR OF</td>\n",
       "      <td>SHERLOCK</td>\n",
       "    </tr>\n",
       "    <tr>\n",
       "      <th>3</th>\n",
       "      <td>ADVENTUR OF SHERLOCK</td>\n",
       "      <td>HOLM</td>\n",
       "    </tr>\n",
       "    <tr>\n",
       "      <th>4</th>\n",
       "      <td>OF SHERLOCK HOLM</td>\n",
       "      <td>BY</td>\n",
       "    </tr>\n",
       "    <tr>\n",
       "      <th>...</th>\n",
       "      <td>...</td>\n",
       "      <td>...</td>\n",
       "    </tr>\n",
       "    <tr>\n",
       "      <th>3263</th>\n",
       "      <td>TOOK A NOTE</td>\n",
       "      <td>OF</td>\n",
       "    </tr>\n",
       "    <tr>\n",
       "      <th>3264</th>\n",
       "      <td>A NOTE OF</td>\n",
       "      <td>IT</td>\n",
       "    </tr>\n",
       "    <tr>\n",
       "      <th>3265</th>\n",
       "      <td>NOTE OF IT</td>\n",
       "      <td>ONE</td>\n",
       "    </tr>\n",
       "    <tr>\n",
       "      <th>3266</th>\n",
       "      <td>OF IT ONE</td>\n",
       "      <td>OTHER</td>\n",
       "    </tr>\n",
       "    <tr>\n",
       "      <th>3267</th>\n",
       "      <td>IT ONE OTHER</td>\n",
       "      <td>QU</td>\n",
       "    </tr>\n",
       "  </tbody>\n",
       "</table>\n",
       "<p>3268 rows × 2 columns</p>\n",
       "</div>"
      ],
      "text/plain": [
       "                           X         Y\n",
       "0      PROJECT GUTENBERG THE  ADVENTUR\n",
       "1     GUTENBERG THE ADVENTUR        OF\n",
       "2            THE ADVENTUR OF  SHERLOCK\n",
       "3       ADVENTUR OF SHERLOCK      HOLM\n",
       "4           OF SHERLOCK HOLM        BY\n",
       "...                      ...       ...\n",
       "3263             TOOK A NOTE        OF\n",
       "3264               A NOTE OF        IT\n",
       "3265              NOTE OF IT       ONE\n",
       "3266               OF IT ONE     OTHER\n",
       "3267            IT ONE OTHER        QU\n",
       "\n",
       "[3268 rows x 2 columns]"
      ]
     },
     "execution_count": 22,
     "metadata": {},
     "output_type": "execute_result"
    }
   ],
   "source": []
  },
  {
   "cell_type": "markdown",
   "id": "83068e4b",
   "metadata": {},
   "source": [
    "# Prepare input data for prediction"
   ]
  },
  {
   "cell_type": "code",
   "execution_count": 20,
   "id": "e2e893ba",
   "metadata": {},
   "outputs": [],
   "source": [
    "input_X_arr = np.zeros((1,len(uwords),3),dtype=bool)"
   ]
  },
  {
   "cell_type": "code",
   "execution_count": 21,
   "id": "fee02204",
   "metadata": {},
   "outputs": [
    {
     "name": "stdout",
     "output_type": "stream",
     "text": [
      "Enter a sentence [3 words only]: GUTENBERG THE ADVENTUR\n"
     ]
    }
   ],
   "source": [
    "sent = input(\"Enter a sentence [3 words only]: \")"
   ]
  },
  {
   "cell_type": "code",
   "execution_count": 23,
   "id": "f9116297",
   "metadata": {},
   "outputs": [],
   "source": [
    "for j,k in enumerate(sent.split(\" \")):\n",
    "    pos = word_position_finder[k]\n",
    "    input_X_arr[0,pos,j]=1"
   ]
  },
  {
   "cell_type": "code",
   "execution_count": 24,
   "id": "4513fd36",
   "metadata": {},
   "outputs": [],
   "source": [
    "R = pd.DataFrame([uwords,model.predict(input_X_arr)[0]]).T\n",
    "R.columns= [\"word\",\"prob\"]"
   ]
  },
  {
   "cell_type": "code",
   "execution_count": 25,
   "id": "99fecf87",
   "metadata": {},
   "outputs": [],
   "source": [
    "pred = R.sort_values(by=\"prob\",ascending=False).head(1).word.values[0]"
   ]
  },
  {
   "cell_type": "code",
   "execution_count": 26,
   "id": "236bf11d",
   "metadata": {},
   "outputs": [
    {
     "name": "stdout",
     "output_type": "stream",
     "text": [
      "Predicted value is -->  THE\n"
     ]
    }
   ],
   "source": [
    "print(\"Predicted value is --> \",pred)"
   ]
  },
  {
   "cell_type": "code",
   "execution_count": null,
   "id": "e7766d53",
   "metadata": {},
   "outputs": [],
   "source": []
  },
  {
   "cell_type": "code",
   "execution_count": null,
   "id": "96f8c0ae",
   "metadata": {},
   "outputs": [],
   "source": []
  },
  {
   "cell_type": "code",
   "execution_count": null,
   "id": "f6ceffaf",
   "metadata": {},
   "outputs": [],
   "source": []
  },
  {
   "cell_type": "code",
   "execution_count": null,
   "id": "379d45b2",
   "metadata": {},
   "outputs": [],
   "source": []
  },
  {
   "cell_type": "code",
   "execution_count": null,
   "id": "b108c479",
   "metadata": {},
   "outputs": [],
   "source": []
  },
  {
   "cell_type": "code",
   "execution_count": null,
   "id": "e11f09ab",
   "metadata": {},
   "outputs": [],
   "source": []
  },
  {
   "cell_type": "code",
   "execution_count": null,
   "id": "095f83a5",
   "metadata": {},
   "outputs": [],
   "source": []
  }
 ],
 "metadata": {
  "kernelspec": {
   "display_name": "Python 3",
   "language": "python",
   "name": "python3"
  },
  "language_info": {
   "codemirror_mode": {
    "name": "ipython",
    "version": 3
   },
   "file_extension": ".py",
   "mimetype": "text/x-python",
   "name": "python",
   "nbconvert_exporter": "python",
   "pygments_lexer": "ipython3",
   "version": "3.8.8"
  }
 },
 "nbformat": 4,
 "nbformat_minor": 5
}
