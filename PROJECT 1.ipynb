{
 "cells": [
  {
   "cell_type": "code",
   "execution_count": 124,
   "id": "96eec66d",
   "metadata": {},
   "outputs": [],
   "source": [
    "import pandas as pd"
   ]
  },
  {
   "cell_type": "code",
   "execution_count": 125,
   "id": "6d862c56",
   "metadata": {},
   "outputs": [],
   "source": [
    "A=pd.read_csv(\"C:/Users/Anuj.kumar/Desktop\\DATA/New folder/training_set.csv\")"
   ]
  },
  {
   "cell_type": "code",
   "execution_count": 126,
   "id": "d8bbe106",
   "metadata": {},
   "outputs": [],
   "source": [
    "cat=[]\n",
    "con=[]"
   ]
  },
  {
   "cell_type": "code",
   "execution_count": 127,
   "id": "b1728c1d",
   "metadata": {},
   "outputs": [],
   "source": [
    "for i in A.columns:\n",
    "    if(A[i].dtype==\"object\"):\n",
    "        cat.append(i)\n",
    "        replacer=A[i].mode()[0]\n",
    "        A[i]=A[i].fillna(replacer)\n",
    "        \n",
    "    else:\n",
    "        con.append(i)\n",
    "        replacer=A[i].mean()\n",
    "        A[i]=A[i].fillna(replacer)"
   ]
  },
  {
   "cell_type": "code",
   "execution_count": 128,
   "id": "34b9e384",
   "metadata": {},
   "outputs": [],
   "source": [
    "y=A[[\"SalePrice\"]]"
   ]
  },
  {
   "cell_type": "code",
   "execution_count": 129,
   "id": "4305fb4f",
   "metadata": {},
   "outputs": [],
   "source": [
    "x=A[[\"OverallQual\",\"YearBuilt\",\"YearRemodAdd\",\"TotalBsmtSF\",\"1stFlrSF\",\"GrLivArea\",\"FullBath\",\"TotRmsAbvGrd\",\"GarageCars\",\"GarageArea\"]]"
   ]
  },
  {
   "cell_type": "code",
   "execution_count": 130,
   "id": "21cea7cd",
   "metadata": {},
   "outputs": [
    {
     "data": {
      "text/html": [
       "<div>\n",
       "<style scoped>\n",
       "    .dataframe tbody tr th:only-of-type {\n",
       "        vertical-align: middle;\n",
       "    }\n",
       "\n",
       "    .dataframe tbody tr th {\n",
       "        vertical-align: top;\n",
       "    }\n",
       "\n",
       "    .dataframe thead th {\n",
       "        text-align: right;\n",
       "    }\n",
       "</style>\n",
       "<table border=\"1\" class=\"dataframe\">\n",
       "  <thead>\n",
       "    <tr style=\"text-align: right;\">\n",
       "      <th></th>\n",
       "      <th>OverallQual</th>\n",
       "      <th>YearBuilt</th>\n",
       "      <th>YearRemodAdd</th>\n",
       "      <th>TotalBsmtSF</th>\n",
       "      <th>1stFlrSF</th>\n",
       "      <th>GrLivArea</th>\n",
       "      <th>FullBath</th>\n",
       "      <th>TotRmsAbvGrd</th>\n",
       "      <th>GarageCars</th>\n",
       "      <th>GarageArea</th>\n",
       "    </tr>\n",
       "  </thead>\n",
       "  <tbody>\n",
       "    <tr>\n",
       "      <th>0</th>\n",
       "      <td>7</td>\n",
       "      <td>2003</td>\n",
       "      <td>2003</td>\n",
       "      <td>856</td>\n",
       "      <td>856</td>\n",
       "      <td>1710</td>\n",
       "      <td>2</td>\n",
       "      <td>8</td>\n",
       "      <td>2</td>\n",
       "      <td>548</td>\n",
       "    </tr>\n",
       "    <tr>\n",
       "      <th>1</th>\n",
       "      <td>6</td>\n",
       "      <td>1976</td>\n",
       "      <td>1976</td>\n",
       "      <td>1262</td>\n",
       "      <td>1262</td>\n",
       "      <td>1262</td>\n",
       "      <td>2</td>\n",
       "      <td>6</td>\n",
       "      <td>2</td>\n",
       "      <td>460</td>\n",
       "    </tr>\n",
       "    <tr>\n",
       "      <th>2</th>\n",
       "      <td>7</td>\n",
       "      <td>2001</td>\n",
       "      <td>2002</td>\n",
       "      <td>920</td>\n",
       "      <td>920</td>\n",
       "      <td>1786</td>\n",
       "      <td>2</td>\n",
       "      <td>6</td>\n",
       "      <td>2</td>\n",
       "      <td>608</td>\n",
       "    </tr>\n",
       "    <tr>\n",
       "      <th>3</th>\n",
       "      <td>7</td>\n",
       "      <td>1915</td>\n",
       "      <td>1970</td>\n",
       "      <td>756</td>\n",
       "      <td>961</td>\n",
       "      <td>1717</td>\n",
       "      <td>1</td>\n",
       "      <td>7</td>\n",
       "      <td>3</td>\n",
       "      <td>642</td>\n",
       "    </tr>\n",
       "    <tr>\n",
       "      <th>4</th>\n",
       "      <td>8</td>\n",
       "      <td>2000</td>\n",
       "      <td>2000</td>\n",
       "      <td>1145</td>\n",
       "      <td>1145</td>\n",
       "      <td>2198</td>\n",
       "      <td>2</td>\n",
       "      <td>9</td>\n",
       "      <td>3</td>\n",
       "      <td>836</td>\n",
       "    </tr>\n",
       "  </tbody>\n",
       "</table>\n",
       "</div>"
      ],
      "text/plain": [
       "   OverallQual  YearBuilt  YearRemodAdd  TotalBsmtSF  1stFlrSF  GrLivArea  \\\n",
       "0            7       2003          2003          856       856       1710   \n",
       "1            6       1976          1976         1262      1262       1262   \n",
       "2            7       2001          2002          920       920       1786   \n",
       "3            7       1915          1970          756       961       1717   \n",
       "4            8       2000          2000         1145      1145       2198   \n",
       "\n",
       "   FullBath  TotRmsAbvGrd  GarageCars  GarageArea  \n",
       "0         2             8           2         548  \n",
       "1         2             6           2         460  \n",
       "2         2             6           2         608  \n",
       "3         1             7           3         642  \n",
       "4         2             9           3         836  "
      ]
     },
     "execution_count": 130,
     "metadata": {},
     "output_type": "execute_result"
    }
   ],
   "source": [
    "x.head()"
   ]
  },
  {
   "cell_type": "code",
   "execution_count": 131,
   "id": "35aa0849",
   "metadata": {},
   "outputs": [],
   "source": [
    "import numpy as np"
   ]
  },
  {
   "cell_type": "code",
   "execution_count": 132,
   "id": "c78f2ac9",
   "metadata": {},
   "outputs": [],
   "source": [
    "x1=x[[\"1stFlrSF\",\"GrLivArea\",\"TotRmsAbvGrd\"]].apply(np.log)"
   ]
  },
  {
   "cell_type": "code",
   "execution_count": 133,
   "id": "98c2200e",
   "metadata": {},
   "outputs": [
    {
     "data": {
      "text/plain": [
       "1stFlrSF        0.079157\n",
       "GrLivArea      -0.006995\n",
       "TotRmsAbvGrd   -0.190746\n",
       "dtype: float64"
      ]
     },
     "execution_count": 133,
     "metadata": {},
     "output_type": "execute_result"
    }
   ],
   "source": [
    "x1.skew()"
   ]
  },
  {
   "cell_type": "code",
   "execution_count": 134,
   "id": "e2db9ffe",
   "metadata": {},
   "outputs": [],
   "source": [
    "x=x.drop(labels=[\"1stFlrSF\",\"GrLivArea\",\"TotRmsAbvGrd\"],axis=1)"
   ]
  },
  {
   "cell_type": "code",
   "execution_count": 135,
   "id": "924d1083",
   "metadata": {},
   "outputs": [],
   "source": [
    "x=x.join(x1)"
   ]
  },
  {
   "cell_type": "code",
   "execution_count": 136,
   "id": "dca3e180",
   "metadata": {},
   "outputs": [
    {
     "data": {
      "text/plain": [
       "YearBuilt      -0.613461\n",
       "YearRemodAdd   -0.503562\n",
       "GarageCars     -0.342549\n",
       "TotRmsAbvGrd   -0.190746\n",
       "GrLivArea      -0.006995\n",
       "FullBath        0.036562\n",
       "1stFlrSF        0.079157\n",
       "GarageArea      0.179981\n",
       "OverallQual     0.216944\n",
       "TotalBsmtSF     1.524255\n",
       "dtype: float64"
      ]
     },
     "execution_count": 136,
     "metadata": {},
     "output_type": "execute_result"
    }
   ],
   "source": [
    "x.skew().sort_values()"
   ]
  },
  {
   "cell_type": "code",
   "execution_count": 137,
   "id": "a2e72059",
   "metadata": {},
   "outputs": [],
   "source": [
    "from sklearn.preprocessing import StandardScaler\n",
    "ss = StandardScaler()\n",
    "x=pd.DataFrame(ss.fit_transform(x),columns=x.columns)"
   ]
  },
  {
   "cell_type": "code",
   "execution_count": 138,
   "id": "28b9cae5",
   "metadata": {},
   "outputs": [],
   "source": [
    "from warnings import filterwarnings\n",
    "filterwarnings(\"ignore\")"
   ]
  },
  {
   "cell_type": "code",
   "execution_count": 139,
   "id": "dc11afe6",
   "metadata": {},
   "outputs": [],
   "source": [
    "from sklearn.model_selection import train_test_split\n",
    "xtrain,xtest,ytrain,ytest=train_test_split(x,y,test_size=0.2)"
   ]
  },
  {
   "cell_type": "code",
   "execution_count": 140,
   "id": "b39713fd",
   "metadata": {},
   "outputs": [],
   "source": [
    "from sklearn.linear_model import LinearRegression\n",
    "lr=LinearRegression()\n",
    "model=lr.fit(xtrain,ytrain)"
   ]
  },
  {
   "cell_type": "code",
   "execution_count": 141,
   "id": "4f6111cf",
   "metadata": {},
   "outputs": [
    {
     "name": "stdout",
     "output_type": "stream",
     "text": [
      "Testing_test:  25665.54\n",
      "Training_test:  25372.47\n",
      "\n",
      "model overfitting\n"
     ]
    }
   ],
   "source": [
    "from sklearn.metrics import mean_absolute_error\n",
    "pred=model.predict(xtrain)\n",
    "Training_test=mean_absolute_error(ytrain,pred)\n",
    "Training_test=round(Training_test,2)\n",
    "\n",
    "\n",
    "pred=model.predict(xtest)\n",
    "Testing_test=mean_absolute_error(ytest,pred)\n",
    "Testing_test=round(Testing_test,2)\n",
    "\n",
    "print(\"Testing_test: \",Testing_test)\n",
    "print(\"Training_test: \",Training_test)\n",
    "\n",
    "if(Testing_test>Training_test):\n",
    "    print(\"\\nmodel overfitting\")\n",
    "else:\n",
    "    print(\"\\nmodel nooverfitting\")\n"
   ]
  },
  {
   "cell_type": "code",
   "execution_count": 142,
   "id": "b3eb0d53",
   "metadata": {},
   "outputs": [],
   "source": [
    "from sklearn.linear_model import Lasso\n",
    "ls = Lasso()"
   ]
  },
  {
   "cell_type": "code",
   "execution_count": 143,
   "id": "96707a1d",
   "metadata": {},
   "outputs": [],
   "source": [
    "tuning_grid = []\n",
    "x = 0.2\n",
    "for i in range(0,200,1):\n",
    "    x = x + 0.0001\n",
    "    x = round(x,3)\n",
    "    tuning_grid.append(x)"
   ]
  },
  {
   "cell_type": "code",
   "execution_count": 144,
   "id": "90b88153",
   "metadata": {},
   "outputs": [],
   "source": [
    "tp = {\"alpha\":tuning_grid}"
   ]
  },
  {
   "cell_type": "code",
   "execution_count": 145,
   "id": "87a10577",
   "metadata": {},
   "outputs": [],
   "source": [
    "from sklearn.model_selection import GridSearchCV\n",
    "cv = GridSearchCV(ls,tp,scoring=\"neg_mean_squared_error\",cv=4)"
   ]
  },
  {
   "cell_type": "code",
   "execution_count": 146,
   "id": "ef654a66",
   "metadata": {},
   "outputs": [
    {
     "data": {
      "text/plain": [
       "{'alpha': 0.2}"
      ]
     },
     "execution_count": 146,
     "metadata": {},
     "output_type": "execute_result"
    }
   ],
   "source": [
    "cvmodel = cv.fit(xtrain,ytrain)\n",
    "cvmodel.best_params_"
   ]
  },
  {
   "cell_type": "code",
   "execution_count": null,
   "id": "b63697ea",
   "metadata": {},
   "outputs": [],
   "source": []
  },
  {
   "cell_type": "code",
   "execution_count": null,
   "id": "7a044377",
   "metadata": {},
   "outputs": [],
   "source": []
  },
  {
   "cell_type": "code",
   "execution_count": null,
   "id": "312204e4",
   "metadata": {},
   "outputs": [],
   "source": []
  }
 ],
 "metadata": {
  "kernelspec": {
   "display_name": "Python 3",
   "language": "python",
   "name": "python3"
  },
  "language_info": {
   "codemirror_mode": {
    "name": "ipython",
    "version": 3
   },
   "file_extension": ".py",
   "mimetype": "text/x-python",
   "name": "python",
   "nbconvert_exporter": "python",
   "pygments_lexer": "ipython3",
   "version": "3.8.8"
  }
 },
 "nbformat": 4,
 "nbformat_minor": 5
}
